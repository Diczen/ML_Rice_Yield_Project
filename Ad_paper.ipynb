{
 "cells": [
  {
   "cell_type": "markdown",
   "metadata": {
    "id": "_dGJlfnM64ei"
   },
   "source": [
    "**Importing all the necessary Libraries for the task**"
   ]
  },
  {
   "cell_type": "code",
   "execution_count": 2,
   "metadata": {
    "ExecuteTime": {
     "end_time": "2024-08-03T01:29:31.576071Z",
     "start_time": "2024-08-03T01:29:31.569521Z"
    },
    "colab": {
     "base_uri": "https://localhost:8080/",
     "height": 0
    },
    "id": "2pU6utC_6Us0",
    "outputId": "fdabe646-460e-4e42-fcda-99e4d8bdf930"
   },
   "outputs": [],
   "source": [
    "import numpy as np\n",
    "import pandas as pd\n",
    "from sklearn.linear_model import LinearRegression\n",
    "from sklearn.feature_selection import RFE\n",
    "from sklearn.model_selection import train_test_split, cross_val_score\n",
    "from sklearn.metrics import mean_absolute_error, r2_score\n",
    "from sklearn.pipeline import Pipeline\n",
    "from sklearn.linear_model import Lasso\n",
    "import xgboost as xgb\n",
    "from sklearn.metrics import mean_squared_error\n",
    "from sklearn.preprocessing import MinMaxScaler\n",
    "from math import sqrt\n",
    "import seaborn as sns\n",
    "from sklearn.model_selection import KFold\n",
    "import matplotlib.pyplot as plt\n",
    "from sklearn.preprocessing import StandardScaler\n",
    "from sklearn.preprocessing import LabelEncoder\n",
    "import tensorflow as tf\n",
    "from sklearn.neighbors import KNeighborsRegressor\n",
    "from sklearn.metrics import make_scorer"
   ]
  },
  {
   "cell_type": "markdown",
   "metadata": {
    "id": "OIj044Go30wO"
   },
   "source": [
    "**Starting the Exploratory Data Analysis phase**"
   ]
  },
  {
   "cell_type": "markdown",
   "metadata": {
    "id": "WCX3HaUL30wP"
   },
   "source": [
    "Importing the data file in CSV format"
   ]
  },
  {
   "cell_type": "code",
   "execution_count": 3,
   "metadata": {
    "ExecuteTime": {
     "end_time": "2024-08-03T01:29:34.906381Z",
     "start_time": "2024-08-03T01:29:34.897841Z"
    },
    "colab": {
     "base_uri": "https://localhost:8080/",
     "height": 0
    },
    "id": "Pthc563Q30wP",
    "outputId": "ceb2510f-a28b-41b9-f3ec-fa077154cd6d",
    "run_control": {
     "marked": false
    }
   },
   "outputs": [
    {
     "name": "stdout",
     "output_type": "stream",
     "text": [
      "(33, 12)\n"
     ]
    }
   ],
   "source": [
    "#the variable data_ad holds the dataframe for Adamawa state data\n",
    "data_ad = pd.read_csv('data_ad.csv')\n",
    "print(data_ad.shape)\n"
   ]
  },
  {
   "cell_type": "markdown",
   "metadata": {
    "id": "q9bvmBaS30wU"
   },
   "source": [
    "Part of the Preprocessing phase(the other part was carried out using MS Excel)"
   ]
  },
  {
   "cell_type": "code",
   "execution_count": 4,
   "metadata": {
    "ExecuteTime": {
     "end_time": "2024-08-03T01:29:37.570450Z",
     "start_time": "2024-08-03T01:29:37.562421Z"
    },
    "id": "uEGwKgo1ir1A",
    "run_control": {
     "marked": true
    }
   },
   "outputs": [],
   "source": [
    "#converting year column to date and index\n",
    "data_ad['Year'] = pd.to_datetime(data_ad['Year'], format='%Y')\n",
    "data_ad.set_index(data_ad['Year'].dt.strftime('%Y'), inplace=True)"
   ]
  },
  {
   "cell_type": "code",
   "execution_count": 5,
   "metadata": {
    "ExecuteTime": {
     "end_time": "2024-08-03T01:29:39.532811Z",
     "start_time": "2024-08-03T01:29:39.523189Z"
    },
    "id": "23vOZ3SqT3vs",
    "run_control": {
     "marked": false
    }
   },
   "outputs": [],
   "source": [
    "#seperating features from target variable\n",
    "#X = data_ad.drop(['yield'], axis=1)  # Features\n",
    "X = data_ad[['all_sky_par', 're_humidity', 't_max', 'w_speed', 's_pressure']]\n",
    "#X = data_ad.drop(['yield'], axis=1)\n",
    "y = data_ad['yield']\n",
    "#scaler\n",
    "scaler = StandardScaler()\n",
    "X_scaled = scaler.fit_transform(X)\n",
    "# spliting the data into 80% training and 20% testing\n",
    "X_train, X_test, y_train, y_test = train_test_split(X_scaled, y, test_size=0.20, random_state=244)"
   ]
  },
  {
   "cell_type": "code",
   "execution_count": 6,
   "metadata": {
    "ExecuteTime": {
     "end_time": "2024-08-03T01:29:42.054437Z",
     "start_time": "2024-08-03T01:29:42.042768Z"
    }
   },
   "outputs": [],
   "source": [
    "#for training without Feature selection\n",
    "X1 = data_ad.drop(['yield' , 'Year'], axis=1)\n",
    "scaler = StandardScaler()\n",
    "X1_scaled = scaler.fit_transform(X1)\n",
    "# spliting the data into 80% training and 20% testing\n",
    "X1_train, X1_test, y_train, y_test = train_test_split(X1_scaled, y, test_size=0.20, random_state=244)"
   ]
  },
  {
   "cell_type": "markdown",
   "metadata": {
    "id": "9VSveqnh30wU"
   },
   "source": [
    "Viewing the training and testing set"
   ]
  },
  {
   "cell_type": "code",
   "execution_count": 7,
   "metadata": {
    "ExecuteTime": {
     "end_time": "2024-08-03T01:29:46.563817Z",
     "start_time": "2024-08-03T01:29:46.558256Z"
    }
   },
   "outputs": [],
   "source": [
    "#A funtion for calculating the MAPE value\n",
    "def calculateMape(test_y, pred_y):\n",
    "    # Convert to NumPy array for element-wise operations\n",
    "    test_y = np.array(test_y)\n",
    "    pred_y = np.array(pred_y)\n",
    "\n",
    "    # Calculate absolute percentage errors\n",
    "    absolute_percentage_errors = np.abs((test_y - pred_y) / test_y)\n",
    "\n",
    "    # Replace any potential division by zero with NaN\n",
    "    absolute_percentage_errors[np.isnan(absolute_percentage_errors)] = 0\n",
    "\n",
    "    # Calculate Mean Absolute Percentage Error (MAPE)\n",
    "    mape = np.mean(absolute_percentage_errors) * 100\n",
    "\n",
    "    return mape"
   ]
  },
  {
   "cell_type": "markdown",
   "metadata": {
    "id": "2iGLiF1N30wU"
   },
   "source": [
    "**Training the Linear Rigression**"
   ]
  },
  {
   "cell_type": "code",
   "execution_count": 8,
   "metadata": {
    "ExecuteTime": {
     "end_time": "2024-08-03T01:29:48.735245Z",
     "start_time": "2024-08-03T01:29:48.701864Z"
    },
    "colab": {
     "base_uri": "https://localhost:8080/",
     "height": 0
    },
    "id": "c_n-ePij30wV",
    "outputId": "340cd03d-3723-49e8-a3f6-d5e180008995",
    "run_control": {
     "marked": false
    }
   },
   "outputs": [
    {
     "name": "stdout",
     "output_type": "stream",
     "text": [
      "Mean Squared Error: 57816496.03888893\n"
     ]
    }
   ],
   "source": [
    "# Training the model\n",
    "model = LinearRegression()\n",
    "\n",
    "model.fit(X_train, y_train)\n",
    "\n",
    "# Testing the model\n",
    "pred = model.predict(X_test)\n",
    "\n",
    "mse = mean_squared_error(y_test, pred)\n",
    "print(\"Mean Squared Error:\", mse)\n",
    "\n",
    "#Creating a dataframe 'Model_perf' to tabulate the values for each of the matrices used\n",
    "Model_perf = pd.DataFrame(columns=['Model_Name','MSE','R2_Score', 'MAE', 'RMSE', 'MAPE'])\n",
    "\n",
    "# Evaluating the model\n",
    "LR_mse = mean_squared_error(y_test, pred)\n",
    "LR_R2 = r2_score(y_test, pred)\n",
    "LR_mae = mean_absolute_error(y_test, pred)\n",
    "LR_rmse = sqrt(LR_mse)\n",
    "LR_mape = calculateMape(y_test, pred)\n",
    "\n",
    "#Adding a row for the evaluation of Linear regression model\n",
    "new_row = {'Model_Name':'Linear Regression','MSE':LR_mse , 'R2_Score': LR_R2, 'MAE' :LR_mae, 'RMSE' :LR_rmse, 'MAPE':LR_mape}\n",
    "Model_perf.loc[0] = new_row"
   ]
  },
  {
   "cell_type": "code",
   "execution_count": 9,
   "metadata": {
    "ExecuteTime": {
     "end_time": "2024-08-03T01:29:55.144429Z",
     "start_time": "2024-08-03T01:29:55.133553Z"
    }
   },
   "outputs": [
    {
     "name": "stdout",
     "output_type": "stream",
     "text": [
      "Mean Squared Error: 325212023.72414726\n"
     ]
    }
   ],
   "source": [
    "#WITHOUT FEATURE SELECTION\n",
    "model = LinearRegression()\n",
    "\n",
    "# Training the model\n",
    "model.fit(X1_train, y_train)\n",
    "\n",
    "# Making predictions on the testing set\n",
    "pred1 = model.predict(X1_test)\n",
    "\n",
    "# Evaluating the model\n",
    "mse = mean_squared_error(y_test, pred1)\n",
    "print(\"Mean Squared Error:\", mse)\n",
    "\n",
    "#Creating a dataframe 'Model_perf' to tabulate the values for each of the matrices used\n",
    "Model_perf2 = pd.DataFrame(columns=['Model_Name','MSE','R2_Score', 'MAE', 'RMSE', 'MAPE'])\n",
    "\n",
    "#Evaluating the model\n",
    "LR_mse = mean_squared_error(y_test, pred1)\n",
    "LR_R2 = r2_score(y_test, pred1)\n",
    "LR_mae = mean_absolute_error(y_test, pred1)\n",
    "LR_rmse = sqrt(LR_mse)\n",
    "LR_mape = calculateMape(y_test, pred1)\n",
    "\n",
    "#Adding a row for the evaluation of Linear regression model\n",
    "new_row = {'Model_Name':'Linear Regression','MSE':LR_mse , 'R2_Score': LR_R2, 'MAE' : LR_mae, 'RMSE' :LR_rmse, 'MAPE':LR_mape}\n",
    "Model_perf2.loc[0] = new_row"
   ]
  },
  {
   "cell_type": "code",
   "execution_count": 34,
   "metadata": {
    "ExecuteTime": {
     "end_time": "2024-08-02T22:57:51.058017Z",
     "start_time": "2024-08-02T22:57:50.931400Z"
    }
   },
   "outputs": [
    {
     "name": "stdout",
     "output_type": "stream",
     "text": [
      "Cross-validation RMSE scores: [5.26885369e+08 4.53958094e+08 2.95247971e+08]\n",
      "Average MSE: 425363811.5005476\n",
      "Cross validation R² Score : [0.6473, 0.3879, 0.635]\n",
      "Average R² : 0.56\n",
      "Cross-validation MAE scores: [ 9256.54785184 12107.81930453 11374.07185139]\n",
      "Average MAE: 10912.813002588446\n",
      "Cross-validation MAPE scores: [-4.26771143 -5.66954444 -4.96658082]\n",
      "Average MAPE: 4.967945563854138\n",
      "Cross-validation RMSE scores: [11177.01007448 17671.63153315 16565.8710261 ]\n",
      "Average RMSE: 15138.170877909033\n"
     ]
    }
   ],
   "source": [
    "# Performing 5-fold cross-validation using Linear Regression\n",
    "k = 3 \n",
    "kf = KFold(n_splits=k, shuffle=True, random_state=50)\n",
    "\n",
    "#for MSE metric\n",
    "cv_scores = cross_val_score(model, X1_scaled, y, cv=kf, scoring='neg_mean_squared_error')\n",
    "cv_mse = -cv_scores\n",
    "print(f\"Cross-validation RMSE scores: {cv_mse}\")\n",
    "print(f\"Average MSE: {np.mean(cv_mse)}\")\n",
    "\n",
    "\n",
    "#for R2 Metric\n",
    "cv_r2_scores = cross_val_score(model, X_scaled, y, cv=kf, scoring='r2')\n",
    "average_r2 = np.mean(cv_r2_scores) \n",
    "print(f\"Cross validation R² Score : {[round(score, 4) for score in cv_r2_scores]}\")\n",
    "print(f\"Average R² : {average_r2:.2f}\")\n",
    "\n",
    "#for MAE\n",
    "cv_scores = cross_val_score(model, X_scaled, y, cv=kf, scoring='neg_mean_absolute_error')\n",
    "\n",
    "mae_scores = -cv_scores  # Converting scores to positive\n",
    "\n",
    "print(\"Cross-validation MAE scores:\", mae_scores)\n",
    "print(\"Average MAE:\", np.mean(mae_scores))\n",
    "\n",
    "#for Mape\n",
    "mape_scorer = make_scorer(calculateMape, greater_is_better=False)\n",
    "cv_scores = cross_val_score(model, X_scaled, y, cv=kf, scoring=mape_scorer)\n",
    "mape_scores = -cv_scores\n",
    "\n",
    "print(\"Cross-validation MAPE scores:\", cv_scores)\n",
    "print(\"Average MAPE:\", np.mean(mape_scores))\n",
    "\n",
    "#for RMSE\n",
    "cv_scores = cross_val_score(model, X_scaled, y, cv=kf, scoring='neg_mean_squared_error')\n",
    "cv_rmse = np.sqrt(-cv_scores)\n",
    "print(f\"Cross-validation RMSE scores: {cv_rmse}\")\n",
    "print(f\"Average RMSE: {np.mean(cv_rmse)}\")\n",
    "\n",
    "Cross_val_perf = pd.DataFrame(columns=['Model_Name','MSE','R2_Score', 'MAE', 'RMSE', 'MAPE'])\n",
    "\n",
    "new_row = {'Model_Name':'Linear Regression','MSE':np.mean(cv_mse) , 'R2_Score': average_r2, 'MAE' : np.mean(mae_scores), 'RMSE' :np.mean(cv_rmse), 'MAPE':np.mean(mape_scores)}\n",
    "Cross_val_perf.loc[0] = new_row"
   ]
  },
  {
   "cell_type": "code",
   "execution_count": 11,
   "metadata": {
    "ExecuteTime": {
     "end_time": "2024-08-03T01:30:08.276722Z",
     "start_time": "2024-08-03T01:30:08.201418Z"
    }
   },
   "outputs": [],
   "source": [
    "### XGBoost WITHOUT FEATURE SELECTION \n",
    "\n",
    "from xgboost import XGBRegressor\n",
    "XG_boost = XGBRegressor(max_depth = 3,n_estimators = 300 )\n",
    "\n",
    "XG_boost.fit(X1_train , y_train)\n",
    "y1_pred = XG_boost.predict(X1_test)\n",
    "XG_mse = mean_squared_error(y_test,y1_pred)\n",
    "XG_R2 = r2_score(y_test,y1_pred)\n",
    "XG_mae = mean_absolute_error(y_test, y1_pred)\n",
    "XG_rmse = mean_squared_error(y_test, y1_pred, squared=False)\n",
    "XG_mape = calculateMape(y_test, y1_pred)\n",
    "\n",
    "\n",
    "new_row1 = {'Model_Name':'XGBoost','MSE':XG_mse , 'R2_Score': XG_R2, 'MAE' :XG_mae, 'RMSE' :XG_rmse, 'MAPE' :XG_mape}\n",
    "Model_perf2.loc[1] = new_row1"
   ]
  },
  {
   "cell_type": "markdown",
   "metadata": {
    "id": "7OMoTiBa30wX"
   },
   "source": [
    "\"XGBoost Regressor\""
   ]
  },
  {
   "cell_type": "code",
   "execution_count": 10,
   "metadata": {
    "ExecuteTime": {
     "end_time": "2024-08-03T01:30:05.054298Z",
     "start_time": "2024-08-03T01:30:04.977695Z"
    },
    "id": "zuvEZDRk30wX",
    "outputId": "3df871d6-0845-4cf7-bf3c-f01d322e670a",
    "scrolled": false
   },
   "outputs": [],
   "source": [
    "### Trying the XGB regressor now\n",
    "\n",
    "from xgboost import XGBRegressor\n",
    "XG_boost = XGBRegressor(max_depth = 3,n_estimators = 300 )\n",
    "\n",
    "XG_boost.fit(X_train , y_train)\n",
    "y_pred = XG_boost.predict(X_test)\n",
    "XG_mse = mean_squared_error(y_test,y_pred)\n",
    "XG_R2 = r2_score(y_test,y_pred)\n",
    "XG_mae = mean_absolute_error(y_test, y_pred)\n",
    "XG_rmse = mean_squared_error(y_test, y_pred, squared=False)\n",
    "XG_mape = calculateMape(y_test, y_pred)\n",
    "\n",
    "\n",
    "new_row1 = {'Model_Name':'XGBoost','MSE':XG_mse , 'R2_Score': XG_R2, 'MAE' :XG_mae, 'RMSE' :XG_rmse, 'MAPE' :XG_mape}\n",
    "Model_perf.loc[1] = new_row1"
   ]
  },
  {
   "cell_type": "code",
   "execution_count": 35,
   "metadata": {
    "ExecuteTime": {
     "end_time": "2024-08-02T22:58:07.462018Z",
     "start_time": "2024-08-02T22:58:04.441743Z"
    }
   },
   "outputs": [
    {
     "name": "stdout",
     "output_type": "stream",
     "text": [
      "Cross-validation MSE scores: [2.13770846e+08 7.23013756e+08 4.85279134e+08]\n",
      "Average MSE: 474021245.3029347\n",
      "Cross validation R² Score : [0.3965, -0.4172, 0.3546]\n",
      "Average R² : 0.11\n",
      "Cross-validation MAE scores: [ 9789.44681818 19199.26153409 12779.51181818]\n",
      "Average MAE: 13922.740056818182\n",
      "Cross-validation MAPE scores: [-4.38941596 -9.10723379 -5.23365739]\n",
      "Average MAPE: 6.24343571267525\n",
      "Cross-validation RMSE scores: [14620.90440447 26888.91511741 22029.05204753]\n",
      "Average RMSE: 21179.62385647095\n"
     ]
    }
   ],
   "source": [
    "# Performing 3-fold cross-validation using XGBoost\n",
    "k = 3 \n",
    "kf = KFold(n_splits=k, shuffle=True, random_state=50)\n",
    "\n",
    "#for MSE metric\n",
    "cv_scores = cross_val_score(XG_boost, X_scaled, y, cv=kf, scoring='neg_mean_squared_error')\n",
    "cv_mse = -cv_scores\n",
    "print(f\"Cross-validation MSE scores: {cv_mse}\")\n",
    "print(f\"Average MSE: {np.mean(cv_mse)}\")\n",
    "\n",
    "\n",
    "#for R2 Metric\n",
    "cv_r2_scores = cross_val_score(XG_boost, X_scaled, y, cv=kf, scoring='r2')\n",
    "average_r2 = np.mean(cv_r2_scores) \n",
    "print(f\"Cross validation R² Score : {[round(score, 4) for score in cv_r2_scores]}\")\n",
    "print(f\"Average R² : {average_r2:.2f}\")\n",
    "\n",
    "#for MAE\n",
    "cv_scores = cross_val_score(XG_boost, X_scaled, y, cv=kf, scoring='neg_mean_absolute_error')\n",
    "\n",
    "mae_scores = -cv_scores  # Converting scores to positive\n",
    "\n",
    "print(\"Cross-validation MAE scores:\", mae_scores)\n",
    "print(\"Average MAE:\", np.mean(mae_scores))\n",
    "#print(\"Standard deviation of MAE:\", np.std(mae_scores))\n",
    "\n",
    "\n",
    "#for Mape\n",
    "mape_scorer = make_scorer(calculateMape, greater_is_better=False)\n",
    "cv_scores = cross_val_score(XG_boost, X_scaled, y, cv=kf, scoring=mape_scorer)\n",
    "mape_scores = -cv_scores\n",
    "\n",
    "print(\"Cross-validation MAPE scores:\", cv_scores)\n",
    "print(\"Average MAPE:\", np.mean(mape_scores))\n",
    "\n",
    "\n",
    "#for RMSE\n",
    "cv_scores = cross_val_score(XG_boost, X_scaled, y, cv=kf, scoring='neg_mean_squared_error')\n",
    "cv_rmse = np.sqrt(-cv_scores)\n",
    "print(f\"Cross-validation RMSE scores: {cv_rmse}\")\n",
    "print(f\"Average RMSE: {np.mean(cv_rmse)}\")\n",
    "\n",
    "new_row2 = {'Model_Name':'XGBoost','MSE':np.mean(cv_mse) , 'R2_Score': average_r2, 'MAE' : np.mean(mae_scores), 'RMSE' :np.mean(cv_rmse), 'MAPE':np.mean(mape_scores)}\n",
    "Cross_val_perf.loc[1] = new_row2"
   ]
  },
  {
   "cell_type": "code",
   "execution_count": 13,
   "metadata": {
    "ExecuteTime": {
     "end_time": "2024-08-03T01:30:21.110563Z",
     "start_time": "2024-08-03T01:30:21.099266Z"
    }
   },
   "outputs": [],
   "source": [
    "# WTIHOUT FEATURE SELECTION Initialize KNN Regressor\n",
    "knn = KNeighborsRegressor(n_neighbors=5)  # You can adjust the number of neighbors\n",
    "\n",
    "# Train the model\n",
    "knn.fit(X1_train, y_train)\n",
    "\n",
    "# Make predictions\n",
    "y1_predict = knn.predict(X1_test)\n",
    "\n",
    "#Evaluate \n",
    "KNN_mse = mean_squared_error(y_test,y1_predict)\n",
    "KNN_R2 = r2_score(y_test,y1_predict)\n",
    "KNN_mae = mean_absolute_error(y_test, y1_predict)\n",
    "KNN_rmse = mean_squared_error(y_test, y1_predict, squared=False)\n",
    "KNN_mape = calculateMape(y_test, y1_predict)\n",
    "\n",
    "\n",
    "new_row2 = {'Model_Name':'KNN','MSE':KNN_mse , 'R2_Score': KNN_R2, 'MAE' :KNN_mae, 'RMSE' :KNN_rmse, 'MAPE' :KNN_mape}\n",
    "Model_perf2.loc[2] = new_row2"
   ]
  },
  {
   "cell_type": "code",
   "execution_count": 12,
   "metadata": {
    "ExecuteTime": {
     "end_time": "2024-08-03T01:30:18.772857Z",
     "start_time": "2024-08-03T01:30:18.762097Z"
    }
   },
   "outputs": [],
   "source": [
    "# Initialize KNN Regressor\n",
    "knn = KNeighborsRegressor(n_neighbors=5)  # You can adjust the number of neighbors\n",
    "\n",
    "# Train the model\n",
    "knn.fit(X_train, y_train)\n",
    "\n",
    "# Make predictions\n",
    "y_predict = knn.predict(X_test)\n",
    "\n",
    "#Evaluate \n",
    "KNN_mse = mean_squared_error(y_test,y_predict)\n",
    "KNN_R2 = r2_score(y_test,y_predict)\n",
    "KNN_mae = mean_absolute_error(y_test, y_predict)\n",
    "KNN_rmse = mean_squared_error(y_test, y_predict, squared=False)\n",
    "KNN_mape = calculateMape(y_test, y_predict)\n",
    "\n",
    "\n",
    "new_row2 = {'Model_Name':'KNN','MSE':KNN_mse , 'R2_Score': KNN_R2, 'MAE' :KNN_mae, 'RMSE' :KNN_rmse, 'MAPE' :KNN_mape}\n",
    "Model_perf.loc[2] = new_row2"
   ]
  },
  {
   "cell_type": "code",
   "execution_count": 36,
   "metadata": {
    "ExecuteTime": {
     "end_time": "2024-08-02T22:58:11.709006Z",
     "start_time": "2024-08-02T22:58:11.601507Z"
    }
   },
   "outputs": [
    {
     "name": "stdout",
     "output_type": "stream",
     "text": [
      "Cross-validation RMSE scores: [1.88815365e+08 3.25514404e+08 3.90163933e+08]\n",
      "Average MSE: 301497900.91303104\n",
      "Cross validation R² Score : [0.467, 0.3619, 0.4811]\n",
      "Average R² : 0.44\n",
      "Cross-validation MAE scores: [10994.13945455 13632.92090909 15426.76181818]\n",
      "Average MAE: 13351.274060606062\n",
      "Cross-validation MAPE scores: [-5.03676603 -6.23899604 -6.66860251]\n",
      "Average MAPE: 5.981454859098181\n",
      "Cross-validation RMSE scores: [13741.0103493  18042.01773581 19752.56776574]\n",
      "Average RMSE: 17178.53195028377\n"
     ]
    }
   ],
   "source": [
    "# Performing 5-fold cross-validation using K Nearest Neighbours\n",
    "k = 3 \n",
    "kf = KFold(n_splits=k, shuffle=True, random_state=50)\n",
    "\n",
    "#for MSE metric\n",
    "cv_scores = cross_val_score(knn, X1_scaled, y, cv=kf, scoring='neg_mean_squared_error')\n",
    "cv_mse = -cv_scores\n",
    "print(f\"Cross-validation RMSE scores: {cv_mse}\")\n",
    "print(f\"Average MSE: {np.mean(cv_mse)}\")\n",
    "\n",
    "\n",
    "#for R2 Metric\n",
    "cv_r2_scores = cross_val_score(knn, X1_scaled, y, cv=kf, scoring='r2')\n",
    "average_r2 = np.mean(cv_r2_scores) \n",
    "print(f\"Cross validation R² Score : {[round(score, 4) for score in cv_r2_scores]}\")\n",
    "print(f\"Average R² : {average_r2:.2f}\")\n",
    "\n",
    "#for MAE\n",
    "cv_scores = cross_val_score(knn, X1_scaled, y, cv=kf, scoring='neg_mean_absolute_error')\n",
    "\n",
    "mae_scores = -cv_scores  # Converting scores to positive\n",
    "\n",
    "print(\"Cross-validation MAE scores:\", mae_scores)\n",
    "print(\"Average MAE:\", np.mean(mae_scores))\n",
    "#print(\"Standard deviation of MAE:\", np.std(mae_scores))\n",
    "\n",
    "\n",
    "#for Mape\n",
    "mape_scorer = make_scorer(calculateMape, greater_is_better=False)\n",
    "cv_scores = cross_val_score(knn, X1_scaled, y, cv=kf, scoring=mape_scorer)\n",
    "mape_scores = -cv_scores\n",
    "\n",
    "print(\"Cross-validation MAPE scores:\", cv_scores)\n",
    "print(\"Average MAPE:\", np.mean(mape_scores))\n",
    "\n",
    "\n",
    "#for RMSE\n",
    "cv_scores = cross_val_score(knn, X1_scaled, y, cv=kf, scoring='neg_mean_squared_error')\n",
    "cv_rmse = np.sqrt(-cv_scores)\n",
    "print(f\"Cross-validation RMSE scores: {cv_rmse}\")\n",
    "print(f\"Average RMSE: {np.mean(cv_rmse)}\")\n",
    "\n",
    "new_row3 = {'Model_Name':'KNN','MSE':np.mean(cv_mse) , 'R2_Score': average_r2, 'MAE' : np.mean(mae_scores), 'RMSE' :np.mean(cv_rmse), 'MAPE':np.mean(mape_scores)}\n",
    "Cross_val_perf.loc[2] = new_row3"
   ]
  },
  {
   "cell_type": "code",
   "execution_count": 37,
   "metadata": {
    "ExecuteTime": {
     "end_time": "2024-08-02T22:58:17.754581Z",
     "start_time": "2024-08-02T22:58:17.728904Z"
    },
    "scrolled": true
   },
   "outputs": [
    {
     "data": {
      "text/html": [
       "<div>\n",
       "<style scoped>\n",
       "    .dataframe tbody tr th:only-of-type {\n",
       "        vertical-align: middle;\n",
       "    }\n",
       "\n",
       "    .dataframe tbody tr th {\n",
       "        vertical-align: top;\n",
       "    }\n",
       "\n",
       "    .dataframe thead th {\n",
       "        text-align: right;\n",
       "    }\n",
       "</style>\n",
       "<table border=\"1\" class=\"dataframe\">\n",
       "  <thead>\n",
       "    <tr style=\"text-align: right;\">\n",
       "      <th></th>\n",
       "      <th>Model_Name</th>\n",
       "      <th>MSE</th>\n",
       "      <th>R2_Score</th>\n",
       "      <th>MAE</th>\n",
       "      <th>RMSE</th>\n",
       "      <th>MAPE</th>\n",
       "    </tr>\n",
       "  </thead>\n",
       "  <tbody>\n",
       "    <tr>\n",
       "      <th>0</th>\n",
       "      <td>Linear Regression</td>\n",
       "      <td>4.253638e+08</td>\n",
       "      <td>0.556743</td>\n",
       "      <td>10912.813003</td>\n",
       "      <td>15138.170878</td>\n",
       "      <td>4.967946</td>\n",
       "    </tr>\n",
       "    <tr>\n",
       "      <th>1</th>\n",
       "      <td>XGBoost</td>\n",
       "      <td>4.740212e+08</td>\n",
       "      <td>0.111303</td>\n",
       "      <td>13922.740057</td>\n",
       "      <td>21179.623856</td>\n",
       "      <td>6.243436</td>\n",
       "    </tr>\n",
       "    <tr>\n",
       "      <th>2</th>\n",
       "      <td>KNN</td>\n",
       "      <td>3.014979e+08</td>\n",
       "      <td>0.436671</td>\n",
       "      <td>13351.274061</td>\n",
       "      <td>17178.531950</td>\n",
       "      <td>5.981455</td>\n",
       "    </tr>\n",
       "  </tbody>\n",
       "</table>\n",
       "</div>"
      ],
      "text/plain": [
       "          Model_Name           MSE  R2_Score           MAE          RMSE  \\\n",
       "0  Linear Regression  4.253638e+08  0.556743  10912.813003  15138.170878   \n",
       "1            XGBoost  4.740212e+08  0.111303  13922.740057  21179.623856   \n",
       "2                KNN  3.014979e+08  0.436671  13351.274061  17178.531950   \n",
       "\n",
       "       MAPE  \n",
       "0  4.967946  \n",
       "1  6.243436  \n",
       "2  5.981455  "
      ]
     },
     "execution_count": 37,
     "metadata": {},
     "output_type": "execute_result"
    }
   ],
   "source": [
    "Cross_val_perf"
   ]
  },
  {
   "cell_type": "code",
   "execution_count": 14,
   "metadata": {
    "ExecuteTime": {
     "end_time": "2024-08-03T01:30:40.268733Z",
     "start_time": "2024-08-03T01:30:40.252186Z"
    }
   },
   "outputs": [
    {
     "data": {
      "text/html": [
       "<div>\n",
       "<style scoped>\n",
       "    .dataframe tbody tr th:only-of-type {\n",
       "        vertical-align: middle;\n",
       "    }\n",
       "\n",
       "    .dataframe tbody tr th {\n",
       "        vertical-align: top;\n",
       "    }\n",
       "\n",
       "    .dataframe thead th {\n",
       "        text-align: right;\n",
       "    }\n",
       "</style>\n",
       "<table border=\"1\" class=\"dataframe\">\n",
       "  <thead>\n",
       "    <tr style=\"text-align: right;\">\n",
       "      <th></th>\n",
       "      <th>Model_Name</th>\n",
       "      <th>MSE</th>\n",
       "      <th>R2_Score</th>\n",
       "      <th>MAE</th>\n",
       "      <th>RMSE</th>\n",
       "      <th>MAPE</th>\n",
       "    </tr>\n",
       "  </thead>\n",
       "  <tbody>\n",
       "    <tr>\n",
       "      <th>0</th>\n",
       "      <td>Linear Regression</td>\n",
       "      <td>3.252120e+08</td>\n",
       "      <td>0.455188</td>\n",
       "      <td>16748.488682</td>\n",
       "      <td>18033.635899</td>\n",
       "      <td>7.648347</td>\n",
       "    </tr>\n",
       "    <tr>\n",
       "      <th>1</th>\n",
       "      <td>XGBoost</td>\n",
       "      <td>2.898339e+08</td>\n",
       "      <td>0.514455</td>\n",
       "      <td>11570.315714</td>\n",
       "      <td>17024.508230</td>\n",
       "      <td>4.983372</td>\n",
       "    </tr>\n",
       "    <tr>\n",
       "      <th>2</th>\n",
       "      <td>KNN</td>\n",
       "      <td>2.113927e+08</td>\n",
       "      <td>0.645864</td>\n",
       "      <td>10719.874286</td>\n",
       "      <td>14539.349596</td>\n",
       "      <td>4.579970</td>\n",
       "    </tr>\n",
       "  </tbody>\n",
       "</table>\n",
       "</div>"
      ],
      "text/plain": [
       "          Model_Name           MSE  R2_Score           MAE          RMSE  \\\n",
       "0  Linear Regression  3.252120e+08  0.455188  16748.488682  18033.635899   \n",
       "1            XGBoost  2.898339e+08  0.514455  11570.315714  17024.508230   \n",
       "2                KNN  2.113927e+08  0.645864  10719.874286  14539.349596   \n",
       "\n",
       "       MAPE  \n",
       "0  7.648347  \n",
       "1  4.983372  \n",
       "2  4.579970  "
      ]
     },
     "execution_count": 14,
     "metadata": {},
     "output_type": "execute_result"
    }
   ],
   "source": [
    "Model_perf2"
   ]
  },
  {
   "cell_type": "code",
   "execution_count": 15,
   "metadata": {
    "ExecuteTime": {
     "end_time": "2024-08-03T01:31:02.815803Z",
     "start_time": "2024-08-03T01:31:02.806532Z"
    }
   },
   "outputs": [
    {
     "data": {
      "text/html": [
       "<div>\n",
       "<style scoped>\n",
       "    .dataframe tbody tr th:only-of-type {\n",
       "        vertical-align: middle;\n",
       "    }\n",
       "\n",
       "    .dataframe tbody tr th {\n",
       "        vertical-align: top;\n",
       "    }\n",
       "\n",
       "    .dataframe thead th {\n",
       "        text-align: right;\n",
       "    }\n",
       "</style>\n",
       "<table border=\"1\" class=\"dataframe\">\n",
       "  <thead>\n",
       "    <tr style=\"text-align: right;\">\n",
       "      <th></th>\n",
       "      <th>Model_Name</th>\n",
       "      <th>MSE</th>\n",
       "      <th>R2_Score</th>\n",
       "      <th>MAE</th>\n",
       "      <th>RMSE</th>\n",
       "      <th>MAPE</th>\n",
       "    </tr>\n",
       "  </thead>\n",
       "  <tbody>\n",
       "    <tr>\n",
       "      <th>0</th>\n",
       "      <td>Linear Regression</td>\n",
       "      <td>5.781650e+07</td>\n",
       "      <td>0.903143</td>\n",
       "      <td>6211.029384</td>\n",
       "      <td>7603.715936</td>\n",
       "      <td>2.804602</td>\n",
       "    </tr>\n",
       "    <tr>\n",
       "      <th>1</th>\n",
       "      <td>XGBoost</td>\n",
       "      <td>3.416119e+08</td>\n",
       "      <td>0.427714</td>\n",
       "      <td>11623.070179</td>\n",
       "      <td>18482.746754</td>\n",
       "      <td>4.965539</td>\n",
       "    </tr>\n",
       "    <tr>\n",
       "      <th>2</th>\n",
       "      <td>KNN</td>\n",
       "      <td>8.881611e+07</td>\n",
       "      <td>0.851211</td>\n",
       "      <td>6534.076571</td>\n",
       "      <td>9424.229780</td>\n",
       "      <td>2.819843</td>\n",
       "    </tr>\n",
       "  </tbody>\n",
       "</table>\n",
       "</div>"
      ],
      "text/plain": [
       "          Model_Name           MSE  R2_Score           MAE          RMSE  \\\n",
       "0  Linear Regression  5.781650e+07  0.903143   6211.029384   7603.715936   \n",
       "1            XGBoost  3.416119e+08  0.427714  11623.070179  18482.746754   \n",
       "2                KNN  8.881611e+07  0.851211   6534.076571   9424.229780   \n",
       "\n",
       "       MAPE  \n",
       "0  2.804602  \n",
       "1  4.965539  \n",
       "2  2.819843  "
      ]
     },
     "execution_count": 15,
     "metadata": {},
     "output_type": "execute_result"
    }
   ],
   "source": [
    "Model_perf"
   ]
  }
 ],
 "metadata": {
  "colab": {
   "provenance": []
  },
  "kernelspec": {
   "display_name": "Python 3 (ipykernel)",
   "language": "python",
   "name": "python3"
  },
  "language_info": {
   "codemirror_mode": {
    "name": "ipython",
    "version": 3
   },
   "file_extension": ".py",
   "mimetype": "text/x-python",
   "name": "python",
   "nbconvert_exporter": "python",
   "pygments_lexer": "ipython3",
   "version": "3.11.3"
  },
  "varInspector": {
   "cols": {
    "lenName": 16,
    "lenType": 16,
    "lenVar": 40
   },
   "kernels_config": {
    "python": {
     "delete_cmd_postfix": "",
     "delete_cmd_prefix": "del ",
     "library": "var_list.py",
     "varRefreshCmd": "print(var_dic_list())"
    },
    "r": {
     "delete_cmd_postfix": ") ",
     "delete_cmd_prefix": "rm(",
     "library": "var_list.r",
     "varRefreshCmd": "cat(var_dic_list()) "
    }
   },
   "types_to_exclude": [
    "module",
    "function",
    "builtin_function_or_method",
    "instance",
    "_Feature"
   ],
   "window_display": false
  }
 },
 "nbformat": 4,
 "nbformat_minor": 1
}
