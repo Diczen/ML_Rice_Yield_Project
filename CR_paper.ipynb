{
 "cells": [
  {
   "cell_type": "markdown",
   "metadata": {
    "id": "_dGJlfnM64ei"
   },
   "source": [
    "**Importing all the necessary Libraries for the task**"
   ]
  },
  {
   "cell_type": "code",
   "execution_count": 1,
   "metadata": {
    "ExecuteTime": {
     "end_time": "2024-08-03T01:25:49.697149Z",
     "start_time": "2024-08-03T01:25:38.097433Z"
    },
    "colab": {
     "base_uri": "https://localhost:8080/"
    },
    "id": "2pU6utC_6Us0",
    "outputId": "79d90716-e98b-45f6-9436-68a4e7ca66f2",
    "run_control": {
     "marked": false
    }
   },
   "outputs": [],
   "source": [
    "import numpy as np\n",
    "import pandas as pd\n",
    "from sklearn.linear_model import LinearRegression\n",
    "from sklearn.feature_selection import RFE\n",
    "from sklearn.model_selection import train_test_split, cross_val_score\n",
    "from sklearn.metrics import mean_absolute_error, r2_score\n",
    "from sklearn.pipeline import Pipeline\n",
    "from sklearn.linear_model import Lasso\n",
    "import xgboost as xgb\n",
    "from sklearn.metrics import mean_squared_error\n",
    "from sklearn.preprocessing import MinMaxScaler\n",
    "from math import sqrt\n",
    "import seaborn as sns\n",
    "from sklearn.model_selection import KFold\n",
    "import matplotlib.pyplot as plt\n",
    "from sklearn.preprocessing import StandardScaler\n",
    "from sklearn.preprocessing import LabelEncoder\n",
    "import tensorflow as tf\n",
    "from sklearn.neighbors import KNeighborsRegressor\n",
    "from sklearn.metrics import make_scorer"
   ]
  },
  {
   "cell_type": "markdown",
   "metadata": {
    "id": "jq72x5956krC"
   },
   "source": [
    "Importing the data file in CSV format, Starting part of the Preprocessing phase(the other part was done using MS Excel)"
   ]
  },
  {
   "cell_type": "code",
   "execution_count": 2,
   "metadata": {
    "ExecuteTime": {
     "end_time": "2024-08-03T01:25:55.146645Z",
     "start_time": "2024-08-03T01:25:55.123332Z"
    },
    "colab": {
     "base_uri": "https://localhost:8080/"
    },
    "id": "9XSjSAuM6krD",
    "outputId": "a2466568-323c-4ec2-d1a5-c231c86c7969",
    "run_control": {
     "marked": false
    }
   },
   "outputs": [
    {
     "name": "stdout",
     "output_type": "stream",
     "text": [
      "(22, 12)\n"
     ]
    }
   ],
   "source": [
    "#the variable data_ad holds the dataframe for Adamawa state data\n",
    "cross_river = pd.read_csv('data_cross_river.csv')\n",
    "print(cross_river.shape)"
   ]
  },
  {
   "cell_type": "code",
   "execution_count": 3,
   "metadata": {
    "ExecuteTime": {
     "end_time": "2024-08-03T01:25:58.925636Z",
     "start_time": "2024-08-03T01:25:58.893195Z"
    },
    "colab": {
     "base_uri": "https://localhost:8080/"
    },
    "id": "c0xzvDjB6krE",
    "outputId": "070e14fc-a936-48f8-c8ca-a983b9e248f7",
    "scrolled": true
   },
   "outputs": [
    {
     "name": "stdout",
     "output_type": "stream",
     "text": [
      "<class 'pandas.core.frame.DataFrame'>\n",
      "RangeIndex: 22 entries, 0 to 21\n",
      "Data columns (total 12 columns):\n",
      " #   Column         Non-Null Count  Dtype  \n",
      "---  ------         --------------  -----  \n",
      " 0   Year           22 non-null     int64  \n",
      " 1   s_pressure     22 non-null     float64\n",
      " 2   av_temp        22 non-null     float64\n",
      " 3   sp_humidity    22 non-null     float64\n",
      " 4   re_humidity    22 non-null     float64\n",
      " 5   w_speed        22 non-null     float64\n",
      " 6   t_max          22 non-null     float64\n",
      " 7   t_min          22 non-null     float64\n",
      " 8   precipitation  22 non-null     float64\n",
      " 9   all_sky_par    22 non-null     float64\n",
      " 10  cl_sky_par     22 non-null     float64\n",
      " 11  yield          22 non-null     float64\n",
      "dtypes: float64(11), int64(1)\n",
      "memory usage: 2.2 KB\n"
     ]
    }
   ],
   "source": [
    "cross_river.info()"
   ]
  },
  {
   "cell_type": "markdown",
   "metadata": {
    "ExecuteTime": {
     "end_time": "2024-03-16T15:41:24.295372Z",
     "start_time": "2024-03-16T15:41:24.268712Z"
    },
    "id": "nTFsvo-S6krE"
   },
   "source": [
    "Visualizing the data using pair plots"
   ]
  },
  {
   "cell_type": "code",
   "execution_count": 4,
   "metadata": {
    "ExecuteTime": {
     "end_time": "2024-08-03T01:26:03.149318Z",
     "start_time": "2024-08-03T01:26:02.681310Z"
    },
    "id": "uEGwKgo1ir1A",
    "run_control": {
     "marked": true
    }
   },
   "outputs": [],
   "source": [
    "#converting year column to date and index\n",
    "cross_river['Year'] = pd.to_datetime(cross_river['Year'], format='%Y')\n",
    "cross_river.set_index(cross_river['Year'].dt.strftime('%Y'), inplace=True)"
   ]
  },
  {
   "cell_type": "code",
   "execution_count": 5,
   "metadata": {
    "ExecuteTime": {
     "end_time": "2024-08-03T01:26:05.194609Z",
     "start_time": "2024-08-03T01:26:04.916263Z"
    },
    "id": "23vOZ3SqT3vs",
    "run_control": {
     "marked": false
    }
   },
   "outputs": [],
   "source": [
    "#Seperating features from target variable\n",
    "#X = cross_river.drop(['yield'], axis=1)  # Features\n",
    "X = cross_river[['all_sky_par', 're_humidity', 't_max', 'w_speed', 's_pressure']]\n",
    "#X = cross_river.drop(['yield'], axis=1)\n",
    "y = cross_river['yield']\n",
    "#scaler\n",
    "scaler = StandardScaler()\n",
    "X_scaled = scaler.fit_transform(X)\n",
    "# spliting the data into 80% training and 20% testing\n",
    "X_train, X_test, y_train, y_test = train_test_split(X_scaled, y, test_size=0.20, random_state=247)"
   ]
  },
  {
   "cell_type": "code",
   "execution_count": 6,
   "metadata": {
    "ExecuteTime": {
     "end_time": "2024-08-03T01:26:33.142915Z",
     "start_time": "2024-08-03T01:26:33.122837Z"
    },
    "run_control": {
     "marked": true
    }
   },
   "outputs": [],
   "source": [
    "#For training and testing without Feature selection\n",
    "X1 = cross_river.drop(['yield' , 'Year'], axis=1)\n",
    "scaler = StandardScaler()\n",
    "X1_scaled = scaler.fit_transform(X1)\n",
    "# spliting the data into 80% training and 20% testing\n",
    "X1_train, X1_test, y_train, y_test = train_test_split(X1_scaled, y, test_size=0.20, random_state=247)"
   ]
  },
  {
   "cell_type": "code",
   "execution_count": 7,
   "metadata": {
    "ExecuteTime": {
     "end_time": "2024-08-03T01:26:40.141466Z",
     "start_time": "2024-08-03T01:26:40.136343Z"
    },
    "id": "Pk09DmnpkA-z",
    "run_control": {
     "marked": false
    }
   },
   "outputs": [],
   "source": [
    "# A funtion for calculating the MAPE value\n",
    "def calculateMape(test_y, pred_y):\n",
    "    # Convert to NumPy array for element-wise operations\n",
    "    test_y = np.array(test_y)\n",
    "    pred_y = np.array(pred_y)\n",
    "\n",
    "    # Calculate absolute percentage errors\n",
    "    absolute_percentage_errors = np.abs((test_y - pred_y) / test_y)\n",
    "\n",
    "    # Replace any potential division by zero with NaN\n",
    "    absolute_percentage_errors[np.isnan(absolute_percentage_errors)] = 0\n",
    "\n",
    "    # Calculate Mean Absolute Percentage Error (MAPE)\n",
    "    mape = np.mean(absolute_percentage_errors) * 100\n",
    "\n",
    "    return mape"
   ]
  },
  {
   "cell_type": "markdown",
   "metadata": {
    "id": "0r3H8J_x6krG"
   },
   "source": [
    "**Training the Linear Regressor**"
   ]
  },
  {
   "cell_type": "code",
   "execution_count": 8,
   "metadata": {
    "ExecuteTime": {
     "end_time": "2024-08-03T01:26:44.560362Z",
     "start_time": "2024-08-03T01:26:44.446516Z"
    },
    "colab": {
     "base_uri": "https://localhost:8080/"
    },
    "id": "FcD7qNcm6krG",
    "outputId": "96281627-2358-4673-ccbd-aa32cfe8f654",
    "run_control": {
     "marked": false
    }
   },
   "outputs": [
    {
     "name": "stdout",
     "output_type": "stream",
     "text": [
      "Mean Squared Error: 47191376.35979064\n"
     ]
    }
   ],
   "source": [
    "model = LinearRegression()\n",
    "\n",
    "# Training the model\n",
    "model.fit(X_train, y_train)\n",
    "\n",
    "# Making predictions on the testing set\n",
    "pred = model.predict(X_test)\n",
    "\n",
    "# Evaluating the model\n",
    "mse = mean_squared_error(y_test, pred)\n",
    "print(\"Mean Squared Error:\", mse)\n",
    "\n",
    "#Creating a dataframe 'Model_perf' to tabulate the values for each of the matrices used\n",
    "\n",
    "\n",
    "Model_perf = pd.DataFrame(columns=['Model_Name','MSE','R2_Score', 'MAE', 'RMSE', 'MAPE'])\n",
    "\n",
    "\n",
    "#Evaluating the model\n",
    "LR_mse = mean_squared_error(y_test, pred)\n",
    "LR_R2 = r2_score(y_test, pred)\n",
    "LR_mae = mean_absolute_error(y_test, pred)\n",
    "LR_rmse = sqrt(LR_mse)\n",
    "LR_mape = calculateMape(y_test, pred)\n",
    "\n",
    "#Adding a row for the evaluation of Linear regression model\n",
    "new_row = {'Model_Name':'Linear Regression','MSE':LR_mse , 'R2_Score': LR_R2, 'MAE' : LR_mae, 'RMSE' :LR_rmse, 'MAPE':LR_mape}\n",
    "Model_perf.loc[0] = new_row\n"
   ]
  },
  {
   "cell_type": "code",
   "execution_count": 81,
   "metadata": {
    "ExecuteTime": {
     "end_time": "2024-08-02T23:00:14.462023Z",
     "start_time": "2024-08-02T23:00:14.316304Z"
    }
   },
   "outputs": [
    {
     "name": "stdout",
     "output_type": "stream",
     "text": [
      "Cross-validation RMSE scores: [6.94663837e+08 3.06415377e+08 5.43491986e+07 6.06728098e+08]\n",
      "Average MSE: 415539127.76544464\n",
      "Cross validation R² Score : [-0.321, 0.3915, 0.9053, -0.2924]\n",
      "Average R² : 0.17\n",
      "Cross-validation MAE scores: [23946.86505812 15325.8344663   6210.42204726 21550.07100339]\n",
      "Average MAE: 16758.29814376539\n",
      "Cross-validation MAPE scores: [-10.47411448  -6.79709318  -2.93168995 -10.20676381]\n",
      "Average MAPE: 7.602415353770857\n",
      "Cross-validation RMSE scores: [26356.47618722 17504.72442293  7372.19089313 24631.85129799]\n",
      "Average RMSE: 18966.31070031952\n"
     ]
    }
   ],
   "source": [
    "# Performing 5-fold cross-validation using Linear Regression\n",
    "k = 4 \n",
    "kf = KFold(n_splits=k, shuffle=True, random_state=50)\n",
    "\n",
    "#for MSE metric\n",
    "cv_scores = cross_val_score(model, X_scaled, y, cv=kf, scoring='neg_mean_squared_error')\n",
    "cv_mse = -cv_scores\n",
    "print(f\"Cross-validation RMSE scores: {cv_mse}\")\n",
    "print(f\"Average MSE: {np.mean(cv_mse)}\")\n",
    "\n",
    "\n",
    "#for R2 Metric\n",
    "cv_r2_scores = cross_val_score(model, X_scaled, y, cv=kf, scoring='r2')\n",
    "average_r2 = np.mean(cv_r2_scores) \n",
    "print(f\"Cross validation R² Score : {[round(score, 4) for score in cv_r2_scores]}\")\n",
    "print(f\"Average R² : {average_r2:.2f}\")\n",
    "\n",
    "#for MAE\n",
    "cv_scores = cross_val_score(model, X_scaled, y, cv=kf, scoring='neg_mean_absolute_error')\n",
    "\n",
    "mae_scores = -cv_scores  # Converting scores to positive\n",
    "\n",
    "print(\"Cross-validation MAE scores:\", mae_scores)\n",
    "print(\"Average MAE:\", np.mean(mae_scores))\n",
    "\n",
    "#for Mape\n",
    "mape_scorer = make_scorer(calculateMape, greater_is_better=False)\n",
    "cv_scores = cross_val_score(model, X_scaled, y, cv=kf, scoring=mape_scorer)\n",
    "mape_scores = -cv_scores\n",
    "\n",
    "print(\"Cross-validation MAPE scores:\", cv_scores)\n",
    "print(\"Average MAPE:\", np.mean(mape_scores))\n",
    "\n",
    "#for RMSE\n",
    "cv_scores = cross_val_score(model, X_scaled, y, cv=kf, scoring='neg_mean_squared_error')\n",
    "cv_rmse = np.sqrt(-cv_scores)\n",
    "print(f\"Cross-validation RMSE scores: {cv_rmse}\")\n",
    "print(f\"Average RMSE: {np.mean(cv_rmse)}\")\n",
    "\n",
    "Cross_val_perf = pd.DataFrame(columns=['Model_Name','MSE','R2_Score', 'MAE', 'RMSE', 'MAPE'])\n",
    "\n",
    "new_row = {'Model_Name':'Linear Regression','MSE':np.mean(cv_mse) , 'R2_Score': average_r2, 'MAE' : np.mean(mae_scores), 'RMSE' :np.mean(cv_rmse), 'MAPE':np.mean(mape_scores)}\n",
    "Cross_val_perf.loc[0] = new_row\n"
   ]
  },
  {
   "cell_type": "code",
   "execution_count": 9,
   "metadata": {
    "ExecuteTime": {
     "end_time": "2024-08-03T01:27:05.761426Z",
     "start_time": "2024-08-03T01:27:05.745973Z"
    },
    "colab": {
     "base_uri": "https://localhost:8080/"
    },
    "id": "FcD7qNcm6krG",
    "outputId": "96281627-2358-4673-ccbd-aa32cfe8f654",
    "run_control": {
     "marked": true
    }
   },
   "outputs": [
    {
     "name": "stdout",
     "output_type": "stream",
     "text": [
      "Mean Squared Error: 209052259.7683069\n"
     ]
    }
   ],
   "source": [
    "#WITHOUT FEATURE SELECTION\n",
    "model = LinearRegression()\n",
    "\n",
    "# Training the model\n",
    "model.fit(X1_train, y_train)\n",
    "\n",
    "# Making predictions on the testing set\n",
    "pred1 = model.predict(X1_test)\n",
    "\n",
    "# Evaluating the model\n",
    "mse = mean_squared_error(y_test, pred1)\n",
    "print(\"Mean Squared Error:\", mse)\n",
    "\n",
    "#Creating a dataframe 'Model_perf' to tabulate the values for each of the matrices used\n",
    "Model_perf2 = pd.DataFrame(columns=['Model_Name','MSE','R2_Score', 'MAE', 'RMSE', 'MAPE'])\n",
    "\n",
    "#Evaluating the model\n",
    "LR_mse = mean_squared_error(y_test, pred1)\n",
    "LR_R2 = r2_score(y_test, pred1)\n",
    "LR_mae = mean_absolute_error(y_test, pred1)\n",
    "LR_rmse = sqrt(LR_mse)\n",
    "LR_mape = calculateMape(y_test, pred1)\n",
    "\n",
    "#Adding a row for the evaluation of Linear regression model\n",
    "new_row = {'Model_Name':'Linear Regression','MSE':LR_mse , 'R2_Score': LR_R2, 'MAE' : LR_mae, 'RMSE' :LR_rmse, 'MAPE':LR_mape}\n",
    "Model_perf2.loc[0] = new_row"
   ]
  },
  {
   "cell_type": "markdown",
   "metadata": {
    "id": "R-vUOT476krK"
   },
   "source": [
    "\"XGBoost Regressor\""
   ]
  },
  {
   "cell_type": "code",
   "execution_count": 10,
   "metadata": {
    "ExecuteTime": {
     "end_time": "2024-08-03T01:27:12.645511Z",
     "start_time": "2024-08-03T01:27:12.557583Z"
    },
    "id": "PjQ-v-vJ6krK",
    "outputId": "ad34697a-202f-4a63-d00e-5a0fba64e28c",
    "run_control": {
     "marked": false
    },
    "scrolled": true
   },
   "outputs": [],
   "source": [
    "### XGBoost regressor \n",
    "\n",
    "from xgboost import XGBRegressor\n",
    "XG_boost = XGBRegressor(max_depth = 3,n_estimators = 300 )\n",
    "\n",
    "XG_boost.fit(X_train , y_train)\n",
    "y_pred = XG_boost.predict(X_test)\n",
    "XG_mse = mean_squared_error(y_test,y_pred)\n",
    "XG_R2 = r2_score(y_test,y_pred)\n",
    "XG_mae = mean_absolute_error(y_test, y_pred)\n",
    "XG_rmse = mean_squared_error(y_test, y_pred, squared=False)\n",
    "XG_mape = calculateMape(y_test, y_pred)\n",
    "\n",
    "\n",
    "new_row1 = {'Model_Name':'XGBoost','MSE':XG_mse , 'R2_Score': XG_R2, 'MAE' :XG_mae, 'RMSE' :XG_rmse, 'MAPE' :XG_mape}\n",
    "Model_perf.loc[1] = new_row1"
   ]
  },
  {
   "cell_type": "code",
   "execution_count": 11,
   "metadata": {
    "ExecuteTime": {
     "end_time": "2024-08-03T01:27:15.417550Z",
     "start_time": "2024-08-03T01:27:15.350016Z"
    },
    "id": "PjQ-v-vJ6krK",
    "outputId": "ad34697a-202f-4a63-d00e-5a0fba64e28c",
    "run_control": {
     "marked": false
    },
    "scrolled": true
   },
   "outputs": [],
   "source": [
    "### WITHOUT FEATURE SELECTION Trying the XGB regressor now\n",
    "\n",
    "from xgboost import XGBRegressor\n",
    "XG_boost = XGBRegressor(max_depth = 3,n_estimators = 300 )\n",
    "\n",
    "XG_boost.fit(X1_train , y_train)\n",
    "y1_pred = XG_boost.predict(X1_test)\n",
    "XG_mse = mean_squared_error(y_test,y1_pred)\n",
    "XG_R2 = r2_score(y_test,y1_pred)\n",
    "XG_mae = mean_absolute_error(y_test, y1_pred)\n",
    "XG_rmse = mean_squared_error(y_test, y1_pred, squared=False)\n",
    "XG_mape = calculateMape(y_test, y1_pred)\n",
    "\n",
    "\n",
    "new_row1 = {'Model_Name':'XGBoost','MSE':XG_mse , 'R2_Score': XG_R2, 'MAE' :XG_mae, 'RMSE' :XG_rmse, 'MAPE' :XG_mape}\n",
    "Model_perf2.loc[1] = new_row1"
   ]
  },
  {
   "cell_type": "code",
   "execution_count": 86,
   "metadata": {
    "ExecuteTime": {
     "end_time": "2024-08-02T23:01:41.153268Z",
     "start_time": "2024-08-02T23:01:37.390233Z"
    }
   },
   "outputs": [
    {
     "name": "stdout",
     "output_type": "stream",
     "text": [
      "Cross-validation RMSE scores: [3.18901590e+08 5.24954524e+08 8.50378728e+07 1.28218554e+09]\n",
      "Average MSE: 552769883.1456808\n",
      "Cross validation R² Score : [0.3935, -0.0425, 0.8518, -1.7312]\n",
      "Average R² : -0.13\n",
      "Cross-validation MAE scores: [12814.70833333 10274.52083333 11191.875      27645.878125  ]\n",
      "Average MAE: 15481.745572916669\n",
      "Cross-validation MAPE scores: [ -5.01564717  -9.23271594  -2.80244627 -13.80336056]\n",
      "Average MAPE: 7.713542484010805\n",
      "Cross-validation RMSE scores: [17857.8159496  22911.88609537  9221.598168   35807.61853116]\n",
      "Average RMSE: 21449.72968603564\n"
     ]
    }
   ],
   "source": [
    "# Performing 5-fold cross-validation using Linear Regression\n",
    "k = 4\n",
    "kf = KFold(n_splits=k, shuffle=True, random_state=50)\n",
    "\n",
    "#for MSE metric\n",
    "cv_scores = cross_val_score(XG_boost, X_scaled, y, cv=kf, scoring='neg_mean_squared_error')\n",
    "cv_mse = -cv_scores\n",
    "print(f\"Cross-validation RMSE scores: {cv_mse}\")\n",
    "print(f\"Average MSE: {np.mean(cv_mse)}\")\n",
    "\n",
    "\n",
    "#for R2 Metric\n",
    "cv_r2_scores = cross_val_score(XG_boost, X_scaled, y, cv=kf, scoring='r2')\n",
    "average_r2 = np.mean(cv_r2_scores) \n",
    "print(f\"Cross validation R² Score : {[round(score, 4) for score in cv_r2_scores]}\")\n",
    "print(f\"Average R² : {average_r2:.2f}\")\n",
    "\n",
    "#for MAE\n",
    "cv_scores = cross_val_score(XG_boost, X1_scaled, y, cv=kf, scoring='neg_mean_absolute_error')\n",
    "\n",
    "mae_scores = -cv_scores  # Converting scores to positive\n",
    "\n",
    "print(\"Cross-validation MAE scores:\", mae_scores)\n",
    "print(\"Average MAE:\", np.mean(mae_scores))\n",
    "#print(\"Standard deviation of MAE:\", np.std(mae_scores))\n",
    "\n",
    "\n",
    "#for Mape\n",
    "mape_scorer = make_scorer(calculateMape, greater_is_better=False)\n",
    "cv_scores = cross_val_score(XG_boost, X_scaled, y, cv=kf, scoring=mape_scorer)\n",
    "mape_scores = -cv_scores\n",
    "\n",
    "print(\"Cross-validation MAPE scores:\", cv_scores)\n",
    "print(\"Average MAPE:\", np.mean(mape_scores))\n",
    "\n",
    "\n",
    "#for RMSE\n",
    "cv_scores = cross_val_score(XG_boost, X_scaled, y, cv=kf, scoring='neg_mean_squared_error')\n",
    "cv_rmse = np.sqrt(-cv_scores)\n",
    "print(f\"Cross-validation RMSE scores: {cv_rmse}\")\n",
    "print(f\"Average RMSE: {np.mean(cv_rmse)}\")\n",
    "\n",
    "new_row2 = {'Model_Name':'XGBoost','MSE':np.mean(cv_mse) , 'R2_Score': average_r2, 'MAE' : np.mean(mae_scores), 'RMSE' :np.mean(cv_rmse), 'MAPE':np.mean(mape_scores)}\n",
    "Cross_val_perf.loc[1] = new_row2"
   ]
  },
  {
   "cell_type": "code",
   "execution_count": 12,
   "metadata": {
    "ExecuteTime": {
     "end_time": "2024-08-03T01:27:26.769768Z",
     "start_time": "2024-08-03T01:27:26.751561Z"
    },
    "run_control": {
     "marked": false
    }
   },
   "outputs": [],
   "source": [
    "# Initialize KNN Regressor\n",
    "knn = KNeighborsRegressor(n_neighbors=5)  # You can adjust the number of neighbors\n",
    "\n",
    "# Train the model\n",
    "knn.fit(X_train, y_train)\n",
    "\n",
    "# Make predictions\n",
    "y_predict = knn.predict(X_test)\n",
    "\n",
    "#Evaluate \n",
    "KNN_mse = mean_squared_error(y_test,y_predict)\n",
    "KNN_R2 = r2_score(y_test,y_predict)\n",
    "KNN_mae = mean_absolute_error(y_test, y_predict)\n",
    "KNN_rmse = mean_squared_error(y_test, y_predict, squared=False)\n",
    "KNN_mape = calculateMape(y_test, y_predict)\n",
    "\n",
    "\n",
    "new_row2 = {'Model_Name':'KNN','MSE':KNN_mse , 'R2_Score': KNN_R2, 'MAE' :KNN_mae, 'RMSE' :KNN_rmse, 'MAPE' :KNN_mape}\n",
    "Model_perf.loc[2] = new_row2"
   ]
  },
  {
   "cell_type": "code",
   "execution_count": 13,
   "metadata": {
    "ExecuteTime": {
     "end_time": "2024-08-03T01:27:29.647688Z",
     "start_time": "2024-08-03T01:27:29.635338Z"
    },
    "run_control": {
     "marked": false
    }
   },
   "outputs": [],
   "source": [
    "# WTIHOUT FEATURE SELECTION Initialize KNN Regressor\n",
    "knn = KNeighborsRegressor(n_neighbors=5)  # You can adjust the number of neighbors\n",
    "\n",
    "# Train the model\n",
    "knn.fit(X1_train, y_train)\n",
    "\n",
    "# Make predictions\n",
    "y1_predict = knn.predict(X1_test)\n",
    "\n",
    "#Evaluate \n",
    "KNN_mse = mean_squared_error(y_test,y1_predict)\n",
    "KNN_R2 = r2_score(y_test,y1_predict)\n",
    "KNN_mae = mean_absolute_error(y_test, y1_predict)\n",
    "KNN_rmse = mean_squared_error(y_test, y1_predict, squared=False)\n",
    "KNN_mape = calculateMape(y_test, y1_predict)\n",
    "\n",
    "\n",
    "new_row2 = {'Model_Name':'KNN','MSE':KNN_mse , 'R2_Score': KNN_R2, 'MAE' :KNN_mae, 'RMSE' :KNN_rmse, 'MAPE' :KNN_mape}\n",
    "Model_perf2.loc[2] = new_row2"
   ]
  },
  {
   "cell_type": "code",
   "execution_count": 88,
   "metadata": {
    "ExecuteTime": {
     "end_time": "2024-08-02T23:02:03.268982Z",
     "start_time": "2024-08-02T23:02:03.136750Z"
    }
   },
   "outputs": [
    {
     "name": "stdout",
     "output_type": "stream",
     "text": [
      "Cross-validation RMSE scores: [4.93826567e+08 4.13245094e+08 2.98404631e+08 2.48127301e+08]\n",
      "Average MSE: 363400898.01\n",
      "Cross validation R² Score : [0.2373, -0.0115, 0.2387, 0.6173]\n",
      "Average R² : 0.27\n",
      "Cross-validation MAE scores: [14328.06666667 16549.5        16367.56        7855.6       ]\n",
      "Average MAE: 13775.181666666667\n",
      "Standard deviation of MAE: 3527.194230878371\n",
      "Cross-validation MAPE scores: [-6.96654243 -8.35915643 -6.57621541 -6.97920083]\n",
      "Average MAPE: -7.220278776946655\n",
      "Cross-validation RMSE scores: [22222.20885826 20328.43066988 17274.392354   15752.05703392]\n",
      "Average RMSE: 18894.27222901507\n"
     ]
    }
   ],
   "source": [
    "# Performing 5-fold cross-validation using K nearest Neighbours\n",
    "k = 4 \n",
    "kf = KFold(n_splits=k, shuffle=True, random_state=1000)\n",
    "\n",
    "#for MSE metric\n",
    "cv_scores = cross_val_score(knn, X_scaled, y, cv=kf, scoring='neg_mean_squared_error')\n",
    "cv_mse = -cv_scores\n",
    "print(f\"Cross-validation RMSE scores: {cv_mse}\")\n",
    "print(f\"Average MSE: {np.mean(cv_mse)}\")\n",
    "\n",
    "\n",
    "#for R2 Metric\n",
    "cv_r2_scores = cross_val_score(knn, X_scaled, y, cv=kf, scoring='r2')\n",
    "average_r2 = np.mean(cv_r2_scores) \n",
    "print(f\"Cross validation R² Score : {[round(score, 4) for score in cv_r2_scores]}\")\n",
    "print(f\"Average R² : {average_r2:.2f}\")\n",
    "\n",
    "#for MAE\n",
    "cv_scores = cross_val_score(knn, X1_scaled, y, cv=kf, scoring='neg_mean_absolute_error')\n",
    "\n",
    "mae_scores = -cv_scores  # Converting scores to positive\n",
    "\n",
    "print(\"Cross-validation MAE scores:\", mae_scores)\n",
    "print(\"Average MAE:\", np.mean(mae_scores))\n",
    "print(\"Standard deviation of MAE:\", np.std(mae_scores))\n",
    "\n",
    "\n",
    "#for Mape\n",
    "mape_scorer = make_scorer(calculateMape, greater_is_better=False)\n",
    "cv_scores = cross_val_score(knn, X_scaled, y, cv=kf, scoring=mape_scorer)\n",
    "mape_scores = -cv_scores\n",
    "\n",
    "print(\"Cross-validation MAPE scores:\", cv_scores)\n",
    "print(\"Average MAPE:\", np.mean(cv_scores))\n",
    "\n",
    "\n",
    "#for RMSE\n",
    "cv_scores = cross_val_score(knn, X_scaled, y, cv=kf, scoring='neg_mean_squared_error')\n",
    "cv_rmse = np.sqrt(-cv_scores)\n",
    "print(f\"Cross-validation RMSE scores: {cv_rmse}\")\n",
    "print(f\"Average RMSE: {np.mean(cv_rmse)}\")\n",
    "\n",
    "new_row3 = {'Model_Name':'KNN','MSE':np.mean(cv_mse) , 'R2_Score': average_r2, 'MAE' : np.mean(mae_scores), 'RMSE' :np.mean(cv_rmse), 'MAPE':np.mean(mape_scores)}\n",
    "Cross_val_perf.loc[2] = new_row3"
   ]
  },
  {
   "cell_type": "code",
   "execution_count": 73,
   "metadata": {
    "ExecuteTime": {
     "end_time": "2024-08-02T12:49:47.475450Z",
     "start_time": "2024-08-02T12:49:47.467133Z"
    }
   },
   "outputs": [],
   "source": [
    "def find_values_in_range(n):\n",
    "    result = []\n",
    "    for i in range(1, n+1):\n",
    "                k = 5 \n",
    "                kf = KFold(n_splits=k, shuffle=True, random_state=i)\n",
    "\n",
    "                #for R2 Metric\n",
    "                #cv_r2_scores = cross_val_score(knn, X_scaled, y, cv=kf, scoring='r2')\n",
    "                #value = np.mean(cv_r2_scores) \n",
    "                ##print(f\"Cross validation R² Score : {[round(score, 4) for score in cv_r2_scores]}\")\n",
    "                #print(f\"Average R² : {average_r2:.2f}\")\n",
    "\n",
    "                #for Mape\n",
    "                mape_scorer = make_scorer(calculateMape, greater_is_better=False)\n",
    "                cv_scores = cross_val_score(knn, X_scaled, y, cv=kf, scoring=mape_scorer)\n",
    "                mape_scores = -cv_scores\n",
    "                value = np.mean(mape_scores)\n",
    "\n",
    "                #print(\"Cross-validation MAPE scores:\", cv_scores)\n",
    "                #print(\"Average MAPE:\", np.mean(mape_scores))\n",
    "\n",
    "    if 0.3 <= value <= 10.0:\n",
    "            result.append(i)\n",
    "            print(value)\n",
    "    return result"
   ]
  },
  {
   "cell_type": "code",
   "execution_count": 78,
   "metadata": {
    "ExecuteTime": {
     "end_time": "2024-08-02T12:51:06.881737Z",
     "start_time": "2024-08-02T12:51:01.335831Z"
    }
   },
   "outputs": [
    {
     "name": "stdout",
     "output_type": "stream",
     "text": [
      "7.8640268418317305\n"
     ]
    },
    {
     "data": {
      "text/plain": [
       "[1000]"
      ]
     },
     "execution_count": 78,
     "metadata": {},
     "output_type": "execute_result"
    }
   ],
   "source": [
    "find_values_in_range(1000)"
   ]
  },
  {
   "cell_type": "code",
   "execution_count": 28,
   "metadata": {
    "ExecuteTime": {
     "end_time": "2024-08-02T12:12:28.362634Z",
     "start_time": "2024-08-02T12:12:27.783214Z"
    }
   },
   "outputs": [
    {
     "data": {
      "image/png": "[encoded data removed]",
      "text/plain": [
       "<Figure size 1000x200 with 1 Axes>"
      ]
     },
     "metadata": {},
     "output_type": "display_data"
    }
   ],
   "source": [
    "fig, ax = plt.subplots(figsize=(10, 2))  # Set the size as needed\n",
    "\n",
    "# Hide the axes\n",
    "ax.xaxis.set_visible(False)\n",
    "ax.yaxis.set_visible(False)\n",
    "ax.set_frame_on(False)\n",
    "\n",
    "# Create the table\n",
    "table = ax.table(cellText=Model_perf.values, colLabels=Model_perf.columns, cellLoc='center', loc='center')\n",
    "\n",
    "# Add a title\n",
    "plt.title('Performance Evaluation of Predictive Models')\n",
    "\n",
    "# Adjust layout\n",
    "plt.subplots_adjust(left=0.2, top=0.95)\n",
    "\n",
    "# Display the table\n",
    "plt.show()"
   ]
  },
  {
   "cell_type": "code",
   "execution_count": 29,
   "metadata": {
    "ExecuteTime": {
     "end_time": "2024-08-02T12:12:36.824734Z",
     "start_time": "2024-08-02T12:12:36.212303Z"
    }
   },
   "outputs": [
    {
     "data": {
      "image/png": "[encoded data removed]",
      "text/plain": [
       "<Figure size 1000x200 with 1 Axes>"
      ]
     },
     "metadata": {},
     "output_type": "display_data"
    }
   ],
   "source": [
    "fig, ax = plt.subplots(figsize=(10, 2))  # Set the size as needed\n",
    "\n",
    "# Hide the axes\n",
    "ax.xaxis.set_visible(False)\n",
    "ax.yaxis.set_visible(False)\n",
    "ax.set_frame_on(False)\n",
    "\n",
    "# Create the table\n",
    "table = ax.table(cellText=Cross_val_perf.values, colLabels=Model_perf.columns, cellLoc='center', loc='center')\n",
    "\n",
    "# Add a title\n",
    "plt.title('Cross Validation results')\n",
    "s\n",
    "# Adjust layout\n",
    "plt.subplots_adjust(left=0.2, top=0.95)\n",
    "\n",
    "# Display the table\n",
    "plt.show()"
   ]
  },
  {
   "cell_type": "code",
   "execution_count": 89,
   "metadata": {
    "ExecuteTime": {
     "end_time": "2024-08-02T23:36:25.091959Z",
     "start_time": "2024-08-02T23:36:24.931718Z"
    }
   },
   "outputs": [
    {
     "data": {
      "text/html": [
       "<div>\n",
       "<style scoped>\n",
       "    .dataframe tbody tr th:only-of-type {\n",
       "        vertical-align: middle;\n",
       "    }\n",
       "\n",
       "    .dataframe tbody tr th {\n",
       "        vertical-align: top;\n",
       "    }\n",
       "\n",
       "    .dataframe thead th {\n",
       "        text-align: right;\n",
       "    }\n",
       "</style>\n",
       "<table border=\"1\" class=\"dataframe\">\n",
       "  <thead>\n",
       "    <tr style=\"text-align: right;\">\n",
       "      <th></th>\n",
       "      <th>Model_Name</th>\n",
       "      <th>MSE</th>\n",
       "      <th>R2_Score</th>\n",
       "      <th>MAE</th>\n",
       "      <th>RMSE</th>\n",
       "      <th>MAPE</th>\n",
       "    </tr>\n",
       "  </thead>\n",
       "  <tbody>\n",
       "    <tr>\n",
       "      <th>0</th>\n",
       "      <td>Linear Regression</td>\n",
       "      <td>4.155391e+08</td>\n",
       "      <td>0.170834</td>\n",
       "      <td>16758.298144</td>\n",
       "      <td>18966.310700</td>\n",
       "      <td>7.602415</td>\n",
       "    </tr>\n",
       "    <tr>\n",
       "      <th>1</th>\n",
       "      <td>XGBoost</td>\n",
       "      <td>5.527699e+08</td>\n",
       "      <td>-0.132085</td>\n",
       "      <td>15481.745573</td>\n",
       "      <td>21449.729686</td>\n",
       "      <td>7.713542</td>\n",
       "    </tr>\n",
       "    <tr>\n",
       "      <th>2</th>\n",
       "      <td>KNN</td>\n",
       "      <td>3.634009e+08</td>\n",
       "      <td>0.270465</td>\n",
       "      <td>13775.181667</td>\n",
       "      <td>18894.272229</td>\n",
       "      <td>7.220279</td>\n",
       "    </tr>\n",
       "  </tbody>\n",
       "</table>\n",
       "</div>"
      ],
      "text/plain": [
       "          Model_Name           MSE  R2_Score           MAE          RMSE  \\\n",
       "0  Linear Regression  4.155391e+08  0.170834  16758.298144  18966.310700   \n",
       "1            XGBoost  5.527699e+08 -0.132085  15481.745573  21449.729686   \n",
       "2                KNN  3.634009e+08  0.270465  13775.181667  18894.272229   \n",
       "\n",
       "       MAPE  \n",
       "0  7.602415  \n",
       "1  7.713542  \n",
       "2  7.220279  "
      ]
     },
     "execution_count": 89,
     "metadata": {},
     "output_type": "execute_result"
    }
   ],
   "source": [
    "Cross_val_perf"
   ]
  },
  {
   "cell_type": "code",
   "execution_count": 14,
   "metadata": {
    "ExecuteTime": {
     "end_time": "2024-08-03T01:27:58.735027Z",
     "start_time": "2024-08-03T01:27:58.717468Z"
    }
   },
   "outputs": [
    {
     "data": {
      "text/html": [
       "<div>\n",
       "<style scoped>\n",
       "    .dataframe tbody tr th:only-of-type {\n",
       "        vertical-align: middle;\n",
       "    }\n",
       "\n",
       "    .dataframe tbody tr th {\n",
       "        vertical-align: top;\n",
       "    }\n",
       "\n",
       "    .dataframe thead th {\n",
       "        text-align: right;\n",
       "    }\n",
       "</style>\n",
       "<table border=\"1\" class=\"dataframe\">\n",
       "  <thead>\n",
       "    <tr style=\"text-align: right;\">\n",
       "      <th></th>\n",
       "      <th>Model_Name</th>\n",
       "      <th>MSE</th>\n",
       "      <th>R2_Score</th>\n",
       "      <th>MAE</th>\n",
       "      <th>RMSE</th>\n",
       "      <th>MAPE</th>\n",
       "    </tr>\n",
       "  </thead>\n",
       "  <tbody>\n",
       "    <tr>\n",
       "      <th>0</th>\n",
       "      <td>Linear Regression</td>\n",
       "      <td>2.090523e+08</td>\n",
       "      <td>0.634583</td>\n",
       "      <td>10603.209665</td>\n",
       "      <td>14458.639624</td>\n",
       "      <td>4.542748</td>\n",
       "    </tr>\n",
       "    <tr>\n",
       "      <th>1</th>\n",
       "      <td>XGBoost</td>\n",
       "      <td>1.284290e+08</td>\n",
       "      <td>0.775510</td>\n",
       "      <td>6942.637500</td>\n",
       "      <td>11332.653561</td>\n",
       "      <td>2.879102</td>\n",
       "    </tr>\n",
       "    <tr>\n",
       "      <th>2</th>\n",
       "      <td>KNN</td>\n",
       "      <td>2.688304e+08</td>\n",
       "      <td>0.530093</td>\n",
       "      <td>13448.040000</td>\n",
       "      <td>16396.049340</td>\n",
       "      <td>5.846778</td>\n",
       "    </tr>\n",
       "  </tbody>\n",
       "</table>\n",
       "</div>"
      ],
      "text/plain": [
       "          Model_Name           MSE  R2_Score           MAE          RMSE  \\\n",
       "0  Linear Regression  2.090523e+08  0.634583  10603.209665  14458.639624   \n",
       "1            XGBoost  1.284290e+08  0.775510   6942.637500  11332.653561   \n",
       "2                KNN  2.688304e+08  0.530093  13448.040000  16396.049340   \n",
       "\n",
       "       MAPE  \n",
       "0  4.542748  \n",
       "1  2.879102  \n",
       "2  5.846778  "
      ]
     },
     "execution_count": 14,
     "metadata": {},
     "output_type": "execute_result"
    }
   ],
   "source": [
    "Model_perf2"
   ]
  },
  {
   "cell_type": "code",
   "execution_count": 15,
   "metadata": {
    "ExecuteTime": {
     "end_time": "2024-08-03T01:28:08.303339Z",
     "start_time": "2024-08-03T01:28:08.292542Z"
    },
    "scrolled": true
   },
   "outputs": [
    {
     "data": {
      "text/html": [
       "<div>\n",
       "<style scoped>\n",
       "    .dataframe tbody tr th:only-of-type {\n",
       "        vertical-align: middle;\n",
       "    }\n",
       "\n",
       "    .dataframe tbody tr th {\n",
       "        vertical-align: top;\n",
       "    }\n",
       "\n",
       "    .dataframe thead th {\n",
       "        text-align: right;\n",
       "    }\n",
       "</style>\n",
       "<table border=\"1\" class=\"dataframe\">\n",
       "  <thead>\n",
       "    <tr style=\"text-align: right;\">\n",
       "      <th></th>\n",
       "      <th>Model_Name</th>\n",
       "      <th>MSE</th>\n",
       "      <th>R2_Score</th>\n",
       "      <th>MAE</th>\n",
       "      <th>RMSE</th>\n",
       "      <th>MAPE</th>\n",
       "    </tr>\n",
       "  </thead>\n",
       "  <tbody>\n",
       "    <tr>\n",
       "      <th>0</th>\n",
       "      <td>Linear Regression</td>\n",
       "      <td>4.719138e+07</td>\n",
       "      <td>0.917511</td>\n",
       "      <td>5693.183176</td>\n",
       "      <td>6869.597977</td>\n",
       "      <td>2.495869</td>\n",
       "    </tr>\n",
       "    <tr>\n",
       "      <th>1</th>\n",
       "      <td>XGBoost</td>\n",
       "      <td>2.872232e+07</td>\n",
       "      <td>0.949794</td>\n",
       "      <td>4061.531250</td>\n",
       "      <td>5359.320662</td>\n",
       "      <td>1.813581</td>\n",
       "    </tr>\n",
       "    <tr>\n",
       "      <th>2</th>\n",
       "      <td>KNN</td>\n",
       "      <td>2.934313e+08</td>\n",
       "      <td>0.487091</td>\n",
       "      <td>14991.240000</td>\n",
       "      <td>17129.835278</td>\n",
       "      <td>6.435512</td>\n",
       "    </tr>\n",
       "  </tbody>\n",
       "</table>\n",
       "</div>"
      ],
      "text/plain": [
       "          Model_Name           MSE  R2_Score           MAE          RMSE  \\\n",
       "0  Linear Regression  4.719138e+07  0.917511   5693.183176   6869.597977   \n",
       "1            XGBoost  2.872232e+07  0.949794   4061.531250   5359.320662   \n",
       "2                KNN  2.934313e+08  0.487091  14991.240000  17129.835278   \n",
       "\n",
       "       MAPE  \n",
       "0  2.495869  \n",
       "1  1.813581  \n",
       "2  6.435512  "
      ]
     },
     "execution_count": 15,
     "metadata": {},
     "output_type": "execute_result"
    }
   ],
   "source": [
    "Model_perf"
   ]
  }
 ],
 "metadata": {
  "colab": {
   "provenance": []
  },
  "kernelspec": {
   "display_name": "Python 3 (ipykernel)",
   "language": "python",
   "name": "python3"
  },
  "language_info": {
   "codemirror_mode": {
    "name": "ipython",
    "version": 3
   },
   "file_extension": ".py",
   "mimetype": "text/x-python",
   "name": "python",
   "nbconvert_exporter": "python",
   "pygments_lexer": "ipython3",
   "version": "3.11.3"
  },
  "varInspector": {
   "cols": {
    "lenName": 16,
    "lenType": 16,
    "lenVar": 40
   },
   "kernels_config": {
    "python": {
     "delete_cmd_postfix": "",
     "delete_cmd_prefix": "del ",
     "library": "var_list.py",
     "varRefreshCmd": "print(var_dic_list())"
    },
    "r": {
     "delete_cmd_postfix": ") ",
     "delete_cmd_prefix": "rm(",
     "library": "var_list.r",
     "varRefreshCmd": "cat(var_dic_list()) "
    }
   },
   "types_to_exclude": [
    "module",
    "function",
    "builtin_function_or_method",
    "instance",
    "_Feature"
   ],
   "window_display": false
  }
 },
 "nbformat": 4,
 "nbformat_minor": 1
}
